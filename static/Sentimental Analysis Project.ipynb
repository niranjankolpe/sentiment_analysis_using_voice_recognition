{
 "cells": [
  {
   "cell_type": "code",
   "execution_count": 1,
   "id": "b2cf4d54",
   "metadata": {},
   "outputs": [
    {
     "name": "stderr",
     "output_type": "stream",
     "text": [
      "[nltk_data] Downloading package omw-1.4 to\n",
      "[nltk_data]     C:\\Users\\niran\\AppData\\Roaming\\nltk_data...\n",
      "[nltk_data]   Package omw-1.4 is already up-to-date!\n",
      "[nltk_data] Downloading package wordnet to\n",
      "[nltk_data]     C:\\Users\\niran\\AppData\\Roaming\\nltk_data...\n",
      "[nltk_data]   Package wordnet is already up-to-date!\n",
      "[nltk_data] Downloading package stopwords to\n",
      "[nltk_data]     C:\\Users\\niran\\AppData\\Roaming\\nltk_data...\n",
      "[nltk_data]   Package stopwords is already up-to-date!\n"
     ]
    }
   ],
   "source": [
    "import re\n",
    "\n",
    "import nltk\n",
    "nltk.download('omw-1.4')\n",
    "nltk.download('wordnet')\n",
    "nltk.download('stopwords')\n",
    "\n",
    "from nltk.corpus import stopwords\n",
    "from nltk.stem import WordNetLemmatizer\n",
    "\n",
    "import pickle\n",
    "import joblib\n",
    "\n",
    "import warnings\n",
    "warnings.filterwarnings('ignore')"
   ]
  },
  {
   "cell_type": "code",
   "execution_count": 2,
   "id": "dd4f151b",
   "metadata": {},
   "outputs": [],
   "source": [
    "def text_transformation(df_col):\n",
    "    corpus = []\n",
    "    lm = WordNetLemmatizer()\n",
    "    for item in df_col:\n",
    "        new_item = re.sub('[^a-zA-Z]', ' ', str(item))\n",
    "        new_item = new_item.lower()\n",
    "        new_item = new_item.split()\n",
    "        new_item = [lm.lemmatize(word) for word in new_item if word not in set(stopwords.words('english'))]\n",
    "        corpus.append(' '.join(str(x) for x in new_item))\n",
    "    return corpus"
   ]
  },
  {
   "cell_type": "code",
   "execution_count": 3,
   "id": "c3a14b55",
   "metadata": {},
   "outputs": [],
   "source": [
    "def predictSentiment(text):\n",
    "    cv_model = joblib.load(\"joblib_count_vector_model\")\n",
    "    text = cv_model.transform(text)\n",
    "    del cv_model\n",
    "    \n",
    "    rf_model = joblib.load(\"pickle_sentimental_model\")\n",
    "    prediction = rf_model.predict(text)\n",
    "    del rf_model\n",
    "    \n",
    "    if prediction==0:\n",
    "        prediction = \"Negative\"\n",
    "    elif prediction==1:\n",
    "        prediction = \"Positive\"\n",
    "    else:\n",
    "        prediction = \"Invalid Input\"\n",
    "    \n",
    "    return prediction"
   ]
  },
  {
   "cell_type": "code",
   "execution_count": 4,
   "id": "51bd3438",
   "metadata": {},
   "outputs": [],
   "source": [
    "def sentiment_predictor(text_input):\n",
    "    transformed_input = text_transformation([text_input])\n",
    "    prediction = predictSentiment(transformed_input)\n",
    "    return prediction"
   ]
  },
  {
   "cell_type": "code",
   "execution_count": 5,
   "id": "d6bbfe43",
   "metadata": {
    "scrolled": false
   },
   "outputs": [
    {
     "name": "stdout",
     "output_type": "stream",
     "text": [
      "Text Input: happy\n",
      "Predicted Sentiment: Positive\n"
     ]
    }
   ],
   "source": [
    "text_input = \"happy\"\n",
    "result = sentiment_predictor(text_input)\n",
    "print(\"Text Input: {0}\".format(text_input))\n",
    "print(\"Predicted Sentiment: {0}\".format(result))"
   ]
  },
  {
   "cell_type": "code",
   "execution_count": null,
   "id": "d9756b51",
   "metadata": {},
   "outputs": [],
   "source": []
  }
 ],
 "metadata": {
  "kernelspec": {
   "display_name": "Python 3 (ipykernel)",
   "language": "python",
   "name": "python3"
  },
  "language_info": {
   "codemirror_mode": {
    "name": "ipython",
    "version": 3
   },
   "file_extension": ".py",
   "mimetype": "text/x-python",
   "name": "python",
   "nbconvert_exporter": "python",
   "pygments_lexer": "ipython3",
   "version": "3.10.9"
  }
 },
 "nbformat": 4,
 "nbformat_minor": 5
}
